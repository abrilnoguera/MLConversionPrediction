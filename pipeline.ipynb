{
 "cells": [
  {
   "cell_type": "markdown",
   "metadata": {},
   "source": [
    "<div style=\"text-align: center;\">\n",
    "    <h1> <font style=\"bold\"> Analisis Predictivo Avanzado </font></h1>\n",
    "    <h2><font style=\"bold\">Trabajo práctico </font></h2>\n",
    "    <h3><font style=\"bold\">Integrantes:</font></h3>\n",
    "</div>\n",
    "<div style=\"display: flex; justify-content: center;\">\n",
    "    <h4><ul>\n",
    "        <li>Noguera Abril</li>\n",
    "        <li>Arbues Lucas</li>\n",
    "        <li>Alfie Agustin</li>\n",
    "        </ul>\n",
    "    </h4>\n",
    "</div>"
   ]
  },
  {
   "cell_type": "code",
   "execution_count": 3,
   "metadata": {},
   "outputs": [],
   "source": [
    "import pandas as pd\n",
    "import numpy as np\n",
    "import gc\n",
    "import math\n",
    "from sklearn.model_selection import StratifiedKFold, RandomizedSearchCV\n",
    "from sklearn.tree import DecisionTreeClassifier\n",
    "from sklearn.metrics import roc_auc_score\n",
    "from hyperopt import hp, fmin, tpe, space_eval, STATUS_OK\n",
    "from sklearn.ensemble import BaggingClassifier, RandomForestClassifier\n",
    "import matplotlib.pyplot as plt\n",
    "from scipy.stats import chi2_contingency\n",
    "from scipy import stats\n",
    "import pycircular\n",
    "from datetime import datetime\n",
    "from math import sin, cos, pi\n",
    "from random import randint, uniform\n",
    "from xgboost import XGBClassifier\n",
    "import sklearn\n",
    "from sklearn.model_selection import train_test_split\n",
    "import pandas as pd\n",
    "import re\n",
    "import xgboost as xgb\n",
    "from matplotlib import pyplot\n",
    "import networkx as nx\n",
    "import zipfile\n",
    "import os\n",
    "\n",
    "# !pip install -U gensim\n",
    "import nltk\n",
    "from nltk.tokenize import sent_tokenize\n",
    "from nltk.tokenize import word_tokenize\n",
    "import re\n",
    "\n",
    "import gensim # Para word2vec.\n",
    "import logging # Para configurar el monitoreo de gensim.\n",
    "\n",
    "# Funciones: \n",
    "from funciones import encoding\n",
    "\n",
    "# Pipeline\n",
    "from sklearn.pipeline import Pipeline"
   ]
  },
  {
   "cell_type": "code",
   "execution_count": 2,
   "metadata": {},
   "outputs": [],
   "source": [
    "# Ruta del archivo ZIP\n",
    "archivo_zip = 'competition_data.zip'\n",
    "\n",
    "# Carpeta de destino para extraer los archivos\n",
    "carpeta_destino = 'archivos_temporales'\n",
    "\n",
    "# Crear la carpeta de destino si no existe\n",
    "os.makedirs(carpeta_destino, exist_ok=True)\n",
    "\n",
    "# Descomprimir el archivo ZIP\n",
    "with zipfile.ZipFile(archivo_zip, 'r') as zip_ref:\n",
    "    zip_ref.extractall(carpeta_destino)\n",
    "\n",
    "# Leer el DataFrame desde el archivo CSV\n",
    "archivo_csv = os.path.join(carpeta_destino, 'competition_data.csv')\n",
    "df = pd.read_csv(archivo_csv)\n",
    "\n",
    "# Eliminar el archivo CSV después de leerlo (opcional)\n",
    "os.remove(archivo_csv)"
   ]
  },
  {
   "cell_type": "code",
   "execution_count": null,
   "metadata": {},
   "outputs": [],
   "source": [
    "pipeline = [('FeatureUnion',)]"
   ]
  }
 ],
 "metadata": {
  "kernelspec": {
   "display_name": "itba_apa_env",
   "language": "python",
   "name": "python3"
  },
  "language_info": {
   "codemirror_mode": {
    "name": "ipython",
    "version": 3
   },
   "file_extension": ".py",
   "mimetype": "text/x-python",
   "name": "python",
   "nbconvert_exporter": "python",
   "pygments_lexer": "ipython3",
   "version": "3.8.18"
  },
  "orig_nbformat": 4
 },
 "nbformat": 4,
 "nbformat_minor": 2
}
