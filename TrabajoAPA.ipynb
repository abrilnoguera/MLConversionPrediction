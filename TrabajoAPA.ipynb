{
 "cells": [
  {
   "cell_type": "markdown",
   "metadata": {},
   "source": [
    "<div style=\"text-align: center;\">\n",
    "    <h1> <font style=\"bold\"> Analisis Predictivo Avanzado </font></h1>\n",
    "    <h2><font style=\"bold\">Trabajo práctico </font></h2>\n",
    "    <h3><font style=\"bold\">Integrantes:</font></h3>\n",
    "</div>\n",
    "<div style=\"display: flex; justify-content: center;\">\n",
    "    <h4><ul>\n",
    "        <li>Noguera Abril</li>\n",
    "        <li>Arbues Lucas</li>\n",
    "        <li>Alfie Agustin</li>\n",
    "        </ul>\n",
    "    </h4>\n",
    "</div>"
   ]
  },
  {
   "cell_type": "code",
   "execution_count": 21,
   "metadata": {},
   "outputs": [],
   "source": [
    "import pandas as pd\n",
    "import numpy as np\n",
    "from xgboost import XGBClassifier\n",
    "from scipy import stats\n",
    "from sklearn.tree import DecisionTreeClassifier\n",
    "from sklearn.metrics import roc_auc_score\n",
    "from sklearn.model_selection import train_test_split\n",
    "from sklearn.ensemble import RandomForestClassifier\n",
    "\n",
    "# Funciones: \n",
    "from funciones import encoding, balance, Optimization"
   ]
  },
  {
   "cell_type": "code",
   "execution_count": 22,
   "metadata": {},
   "outputs": [],
   "source": [
    "df = pd.read_pickle('df.pkl')"
   ]
  },
  {
   "cell_type": "markdown",
   "metadata": {},
   "source": [
    "## Encoding:"
   ]
  },
  {
   "cell_type": "code",
   "execution_count": 23,
   "metadata": {},
   "outputs": [],
   "source": [
    "df_encoded = df[['category_id', 'domain_id', 'item_id','name', 'listing_type_id', 'logistic_type', 'platform', 'cat_warranty', 'is_pdp','ROW_ID','conversion']]\n",
    "df = df.drop(['category_id', 'domain_id', 'item_id','name', 'listing_type_id', 'logistic_type', 'platform', 'cat_warranty', 'is_pdp','ROW_ID','conversion'], axis=1)"
   ]
  },
  {
   "cell_type": "code",
   "execution_count": 26,
   "metadata": {},
   "outputs": [],
   "source": [
    "dfTE = encoding(df_encoded[['category_id', 'domain_id', 'item_id','name','conversion','ROW_ID']], ['category_id', 'domain_id', 'item_id','name'], 'TE')"
   ]
  },
  {
   "cell_type": "code",
   "execution_count": 27,
   "metadata": {},
   "outputs": [],
   "source": [
    "dfOHE = encoding(df_encoded.drop(['category_id', 'domain_id', 'item_id','name','conversion'], axis=1), ['listing_type_id', 'logistic_type', 'platform', 'cat_warranty', 'is_pdp'], 'OHE')"
   ]
  },
  {
   "cell_type": "code",
   "execution_count": 28,
   "metadata": {},
   "outputs": [],
   "source": [
    "df = df.merge(dfTE,left_index=True, right_index=True, how='inner')\n",
    "df = df.merge(dfOHE,left_index=True, right_index=True, how='inner')\n",
    "df['ROW_ID'] = df['ROW_ID_x']\n",
    "df =df.drop(['ROW_ID_x','ROW_ID_y'], axis = 1)"
   ]
  },
  {
   "cell_type": "code",
   "execution_count": 8,
   "metadata": {},
   "outputs": [],
   "source": [
    "# dfOHE = encoding(df[['category_id', 'domain_id', 'item_id','name','conversion','ROW_ID']], ['category_id', 'domain_id', 'item_id','name'], 'TE').merge(\n",
    "#     encoding(df.drop(['category_id', 'domain_id', 'item_id','name','conversion'], axis=1), ['listing_type_id', 'logistic_type', 'platform', 'cat_warranty', 'is_pdp'], 'OHE'), \n",
    "#     left_index=True, right_index=True, how='inner')\n",
    "# dfOHE['ROW_ID'] = dfOHE['ROW_ID_x']\n",
    "# dfOHE =dfOHE.drop(['ROW_ID_x','ROW_ID_y'], axis = 1)"
   ]
  },
  {
   "cell_type": "code",
   "execution_count": 9,
   "metadata": {},
   "outputs": [],
   "source": [
    "# dfLE = encoding(df[['category_id', 'domain_id', 'item_id','name','conversion','ROW_ID']], ['category_id', 'domain_id', 'item_id','name'], 'TE').merge(\n",
    "#     encoding(df.drop(['category_id', 'domain_id', 'item_id','name','conversion'], axis=1), ['listing_type_id', 'logistic_type', 'platform', 'cat_warranty', 'is_pdp'], 'LE'), \n",
    "#     left_index=True, right_index=True, how='inner')\n",
    "# dfLE['ROW_ID'] = dfLE['ROW_ID_x']\n",
    "# dfLE = dfLE.drop(['ROW_ID_x','ROW_ID_y'], axis = 1)"
   ]
  },
  {
   "cell_type": "code",
   "execution_count": 10,
   "metadata": {},
   "outputs": [],
   "source": [
    "# dfOE = encoding(df[['category_id', 'domain_id', 'item_id','name','conversion','ROW_ID']], ['category_id', 'domain_id', 'item_id','name'], 'TE').merge(\n",
    "#     encoding(df.drop(['category_id', 'domain_id', 'item_id','name','conversion'], axis=1), ['listing_type_id', 'logistic_type', 'platform', 'cat_warranty', 'is_pdp'], 'OE'), \n",
    "#     left_index=True, right_index=True, how='inner')\n",
    "# dfOE['ROW_ID'] = dfOE['ROW_ID_x']\n",
    "# dfOE = dfOE.drop(['ROW_ID_x','ROW_ID_y'], axis = 1)"
   ]
  },
  {
   "cell_type": "code",
   "execution_count": 11,
   "metadata": {},
   "outputs": [],
   "source": [
    "# dfFE = encoding(df, ['category_id', 'domain_id', 'item_id','name', 'listing_type_id', 'logistic_type', 'platform', 'cat_warranty', 'is_pdp'], 'FE')"
   ]
  },
  {
   "cell_type": "code",
   "execution_count": 12,
   "metadata": {},
   "outputs": [],
   "source": [
    "# dfTE = encoding(df, ['category_id', 'domain_id', 'item_id','name', 'listing_type_id', 'logistic_type', 'platform', 'cat_warranty', 'is_pdp'], 'TE')"
   ]
  },
  {
   "cell_type": "markdown",
   "metadata": {},
   "source": [
    "# Exploración e Implementación del Modelo "
   ]
  },
  {
   "cell_type": "markdown",
   "metadata": {},
   "source": [
    "Una vez finalizado el analisis exploratorio de datos (EDA), se procede a la exploracion e implementacion del modelo."
   ]
  },
  {
   "cell_type": "markdown",
   "metadata": {},
   "source": [
    "- Train: 80%\n",
    "- Val: 20%\n",
    "- Test: de testeo."
   ]
  },
  {
   "cell_type": "code",
   "execution_count": 26,
   "metadata": {},
   "outputs": [],
   "source": [
    "# Split into training and evaluation samples\n",
    "train_data = df[df[\"ROW_ID\"].isna()]\n",
    "test_data = df[df[\"ROW_ID\"].notna()]"
   ]
  },
  {
   "cell_type": "code",
   "execution_count": 27,
   "metadata": {},
   "outputs": [],
   "source": [
    "train_data = train_data.drop(columns=[\"ROW_ID\"])\n",
    "X_train, X_val, y_train, y_val = train_test_split(train_data.drop(columns=[\"conversion\"]), train_data['conversion'], test_size=0.2)"
   ]
  },
  {
   "cell_type": "code",
   "execution_count": 28,
   "metadata": {},
   "outputs": [],
   "source": [
    "X_test = test_data.drop(columns=[\"conversion\", \"ROW_ID\"])"
   ]
  },
  {
   "cell_type": "markdown",
   "metadata": {},
   "source": [
    "## Balanceo:"
   ]
  },
  {
   "cell_type": "code",
   "execution_count": 29,
   "metadata": {},
   "outputs": [
    {
     "name": "stdout",
     "output_type": "stream",
     "text": [
      "conversion\n",
      "False    131196\n",
      "True      13412\n",
      "Name: count, dtype: int64\n"
     ]
    }
   ],
   "source": [
    "print((y_train == 1).value_counts())"
   ]
  },
  {
   "cell_type": "code",
   "execution_count": 30,
   "metadata": {},
   "outputs": [],
   "source": [
    "# OS, US, LT, NM y SM\n",
    "X_train, y_train = balance(X_train, y_train, 'NM')"
   ]
  },
  {
   "cell_type": "markdown",
   "metadata": {},
   "source": [
    "## Optimización"
   ]
  },
  {
   "cell_type": "code",
   "execution_count": 31,
   "metadata": {},
   "outputs": [],
   "source": [
    "model = RandomForestClassifier(n_jobs=-1, verbose=1, oob_score=True)"
   ]
  },
  {
   "cell_type": "code",
   "execution_count": 32,
   "metadata": {},
   "outputs": [],
   "source": [
    "grid = {\n",
    "            'max_depth': stats.randint(1,20),\n",
    "              'n_estimators': stats.randint(10, 200),\n",
    "              'min_samples_split': stats.randint(2, 20),\n",
    "             }"
   ]
  },
  {
   "cell_type": "code",
   "execution_count": 33,
   "metadata": {},
   "outputs": [],
   "source": [
    "search_spaces = {\n",
    "    'n_estimators': (10, 200),\n",
    "    'max_depth': (1, 32),\n",
    "    'min_samples_split': (2, 20),\n",
    "}"
   ]
  },
  {
   "cell_type": "markdown",
   "metadata": {},
   "source": [
    "### Random Search:"
   ]
  },
  {
   "cell_type": "code",
   "execution_count": 34,
   "metadata": {},
   "outputs": [],
   "source": [
    "optimizer = Optimization(model=model, param_grid=grid, n_iter=10, cv=5, random_state=42)"
   ]
  },
  {
   "cell_type": "code",
   "execution_count": 35,
   "metadata": {},
   "outputs": [],
   "source": [
    "%%capture\n",
    "RS = optimizer.random_search(X_train, y_train)"
   ]
  },
  {
   "cell_type": "code",
   "execution_count": 37,
   "metadata": {},
   "outputs": [
    {
     "name": "stdout",
     "output_type": "stream",
     "text": [
      "Best hyperparameters (Random Search): {'max_depth': 7, 'min_samples_split': 16, 'n_estimators': 116}\n"
     ]
    }
   ],
   "source": [
    "best_params_random = RS.best_params_\n",
    "print(\"Best hyperparameters (Random Search):\", best_params_random)"
   ]
  },
  {
   "cell_type": "code",
   "execution_count": 38,
   "metadata": {},
   "outputs": [
    {
     "data": {
      "text/plain": [
       "0.7481710453800248"
      ]
     },
     "execution_count": 38,
     "metadata": {},
     "output_type": "execute_result"
    }
   ],
   "source": [
    "RS.best_score_"
   ]
  },
  {
   "cell_type": "code",
   "execution_count": 39,
   "metadata": {},
   "outputs": [
    {
     "name": "stdout",
     "output_type": "stream",
     "text": [
      "<class 'pandas.core.frame.DataFrame'>\n",
      "Index: 19211 entries, 180761 to 199971\n",
      "Data columns (total 81 columns):\n",
      " #   Column                              Non-Null Count  Dtype  \n",
      "---  ------                              --------------  -----  \n",
      " 0   category_id                         19211 non-null  float64\n",
      " 1   domain_id                           19211 non-null  float64\n",
      " 2   item_id                             19211 non-null  float64\n",
      " 3   name                                19211 non-null  float64\n",
      " 4   available_quantity                  19211 non-null  int64  \n",
      " 5   avg_gmv_item_domain_30days          19211 non-null  float64\n",
      " 6   avg_gmv_item_sel                    19211 non-null  float64\n",
      " 7   avg_gmv_seller_bday                 19211 non-null  float64\n",
      " 8   avg_qty_orders_item_domain_30days   19211 non-null  float64\n",
      " 9   avg_qty_orders_item_sel_30days      19211 non-null  float64\n",
      " 10  avg_si_item_sel_30day               19211 non-null  float64\n",
      " 11  free_shipping                       19211 non-null  bool   \n",
      " 12  fulfillment                         19211 non-null  bool   \n",
      " 13  health                              19211 non-null  float64\n",
      " 14  offset                              19211 non-null  int64  \n",
      " 15  original_price                      19211 non-null  int64  \n",
      " 16  price                               19211 non-null  int64  \n",
      " 17  print_position                      19211 non-null  int64  \n",
      " 18  qty_items_dom                       19211 non-null  float64\n",
      " 19  qty_items_sel                       19211 non-null  float64\n",
      " 20  sold_quantity                       19211 non-null  int64  \n",
      " 21  total_asp_item_domain_30days        19211 non-null  float64\n",
      " 22  total_asp_item_sel_30days           19211 non-null  float64\n",
      " 23  total_gmv_item_30days               19211 non-null  float64\n",
      " 24  total_items_domain                  19211 non-null  int64  \n",
      " 25  total_items_seller                  19211 non-null  int64  \n",
      " 26  total_orders_domain_30days          19211 non-null  float64\n",
      " 27  total_orders_item_30days            19211 non-null  float64\n",
      " 28  total_orders_sel_30days             19211 non-null  float64\n",
      " 29  total_si_domain_30days              19211 non-null  float64\n",
      " 30  total_si_item_30days                19211 non-null  float64\n",
      " 31  total_si_sel_30days                 19211 non-null  float64\n",
      " 32  total_visits_domain                 19211 non-null  int64  \n",
      " 33  total_visits_item                   19211 non-null  int64  \n",
      " 34  total_visits_seller                 19211 non-null  int64  \n",
      " 35  price_ratio                         19211 non-null  float64\n",
      " 36  platform_web                        19211 non-null  bool   \n",
      " 37  ahora-12                            19211 non-null  int64  \n",
      " 38  brand_verified                      19211 non-null  int64  \n",
      " 39  cart_eligible                       19211 non-null  int64  \n",
      " 40  catalog_listing_eligible            19211 non-null  int64  \n",
      " 41  deal_of_the_day                     19211 non-null  int64  \n",
      " 42  dragged_bids_and_visits             19211 non-null  int64  \n",
      " 43  extended_warranty_eligible          19211 non-null  int64  \n",
      " 44  good_quality_picture                19211 non-null  int64  \n",
      " 45  good_quality_thumbnail              19211 non-null  int64  \n",
      " 46  immediate_payment                   19211 non-null  int64  \n",
      " 47  incomplete_technical_specs          19211 non-null  int64  \n",
      " 48  lightning_deal                      19211 non-null  int64  \n",
      " 49  loyalty_discount_eligible           19211 non-null  int64  \n",
      " 50  poor_quality_picture                19211 non-null  int64  \n",
      " 51  poor_quality_thumbnail              19211 non-null  int64  \n",
      " 52  supermarket_eligible                19211 non-null  int64  \n",
      " 53  today_promotion                     19211 non-null  int64  \n",
      " 54  under_infractions                   19211 non-null  int64  \n",
      " 55  hour_sin                            19211 non-null  float64\n",
      " 56  hour_cos                            19211 non-null  float64\n",
      " 57  weekday_sin                         19211 non-null  float64\n",
      " 58  weekday_cos                         19211 non-null  float64\n",
      " 59  day_sin                             19211 non-null  float64\n",
      " 60  day_cos                             19211 non-null  float64\n",
      " 61  listing_type_id_gold_pro            19211 non-null  bool   \n",
      " 62  listing_type_id_gold_special        19211 non-null  bool   \n",
      " 63  logistic_type_cross_docking         19211 non-null  bool   \n",
      " 64  logistic_type_custom                19211 non-null  bool   \n",
      " 65  logistic_type_default               19211 non-null  bool   \n",
      " 66  logistic_type_drop_off              19211 non-null  bool   \n",
      " 67  logistic_type_fulfillment           19211 non-null  bool   \n",
      " 68  logistic_type_not_specified         19211 non-null  bool   \n",
      " 69  logistic_type_xd_drop_off           19211 non-null  bool   \n",
      " 70  platform_/mobile/android            19211 non-null  bool   \n",
      " 71  platform_/mobile/ios                19211 non-null  bool   \n",
      " 72  platform_/web/desktop               19211 non-null  bool   \n",
      " 73  platform_/web/mobile                19211 non-null  bool   \n",
      " 74  cat_warranty_garantia               19211 non-null  bool   \n",
      " 75  cat_warranty_garantia de fabrica    19211 non-null  bool   \n",
      " 76  cat_warranty_garantia del vendedor  19211 non-null  bool   \n",
      " 77  cat_warranty_sin garantia           19211 non-null  bool   \n",
      " 78  is_pdp_False                        19211 non-null  bool   \n",
      " 79  is_pdp_True                         19211 non-null  bool   \n",
      " 80  is_pdp_nan                          19211 non-null  bool   \n",
      "dtypes: bool(23), float64(29), int64(29)\n",
      "memory usage: 9.1 MB\n"
     ]
    }
   ],
   "source": [
    "X_test.info()"
   ]
  },
  {
   "cell_type": "code",
   "execution_count": 40,
   "metadata": {},
   "outputs": [
    {
     "name": "stderr",
     "output_type": "stream",
     "text": [
      "[Parallel(n_jobs=10)]: Using backend ThreadingBackend with 10 concurrent workers.\n",
      "[Parallel(n_jobs=10)]: Done  30 tasks      | elapsed:    0.0s\n",
      "[Parallel(n_jobs=10)]: Done 116 out of 116 | elapsed:    0.0s finished\n"
     ]
    },
    {
     "data": {
      "text/plain": [
       "array([0.98259017, 0.24749158, 0.80636718, ..., 0.12936396, 0.97958816,\n",
       "       0.23625339])"
      ]
     },
     "execution_count": 40,
     "metadata": {},
     "output_type": "execute_result"
    }
   ],
   "source": [
    "# Predict on the evaluation set\n",
    "y_pred = RS.predict_proba(X_test)[:,1]\n",
    "y_pred"
   ]
  },
  {
   "cell_type": "code",
   "execution_count": null,
   "metadata": {},
   "outputs": [],
   "source": [
    "# Make the submission file\n",
    "submission_df = pd.DataFrame({\"ROW_ID\": test_data[\"ROW_ID\"], \"conversion\": y_pred})\n",
    "submission_df[\"ROW_ID\"] = submission_df[\"ROW_ID\"].astype(int)\n",
    "submission_df.to_csv(\"xg_boostRS.csv\", sep=\",\", index=False)"
   ]
  }
 ],
 "metadata": {
  "kernelspec": {
   "display_name": "itba_apa_env",
   "language": "python",
   "name": "python3"
  },
  "language_info": {
   "codemirror_mode": {
    "name": "ipython",
    "version": 3
   },
   "file_extension": ".py",
   "mimetype": "text/x-python",
   "name": "python",
   "nbconvert_exporter": "python",
   "pygments_lexer": "ipython3",
   "version": "3.8.18"
  },
  "orig_nbformat": 4
 },
 "nbformat": 4,
 "nbformat_minor": 2
}
